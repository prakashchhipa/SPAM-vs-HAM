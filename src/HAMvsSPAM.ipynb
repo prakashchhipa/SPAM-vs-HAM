{
 "cells": [
  {
   "cell_type": "code",
   "execution_count": null,
   "metadata": {
    "collapsed": true
   },
   "outputs": [],
   "source": [
    "import numpy as np\n",
    "import pandas as pd\n",
    "import sklearn\n",
    "import seaborn as sn\n",
    "import time\n",
    "import string\n",
    "from sklearn.model_selection import train_test_split\n",
    "from sklearn.feature_extraction.text import TfidfVectorizer\n",
    "from sklearn.feature_extraction.text import CountVectorizer\n",
    "from sklearn.preprocessing import MinMaxScaler\n",
    "from sklearn.preprocessing import StandardScaler\n",
    "from sklearn.linear_model import LinearRegression, LogisticRegression\n",
    "from sklearn.neighbors import KNeighborsClassifier\n",
    "from sklearn.ensemble import RandomForestClassifier,GradientBoostingClassifier\n",
    "from sklearn.tree import DecisionTreeClassifier\n",
    "from sklearn.gaussian_process.kernels import RBF\n",
    "from sklearn.naive_bayes import GaussianNB\n",
    "from sklearn.svm import SVC\n",
    "from sklearn.model_selection import cross_val_score\n",
    "from sklearn import model_selection\n",
    "import matplotlib.pyplot as plt\n",
    "%matplotlib inline\n",
    "from scipy.sparse import coo_matrix, hstack\n",
    "from nltk.corpus import stopwords\n",
    "from sklearn import metrics\n",
    "from sklearn.metrics import confusion_matrix\n",
    "from sklearn.naive_bayes import BernoulliNB, GaussianNB"
   ]
  },
  {
   "cell_type": "markdown",
   "metadata": {},
   "source": [
    "Load data from text file and keep in data frame"
   ]
  },
  {
   "cell_type": "code",
   "execution_count": null,
   "metadata": {
    "collapsed": true
   },
   "outputs": [],
   "source": [
    "lines = tuple(open(\"SMSSpamCollection.txt\", 'r'))\n",
    "df = pd.DataFrame(columns=['label','msg'])\n",
    "#df.head(5)\n",
    "count=0\n",
    "for line in lines:\n",
    "    df.loc[count] =(line.split(\"\\t\"))\n",
    "    count = count + 1"
   ]
  },
  {
   "cell_type": "code",
   "execution_count": null,
   "metadata": {
    "collapsed": true
   },
   "outputs": [],
   "source": [
    "print('Record Count', count)\n",
    "df.head(5)"
   ]
  },
  {
   "cell_type": "code",
   "execution_count": null,
   "metadata": {
    "collapsed": true
   },
   "outputs": [],
   "source": [
    "df['category'] = df['label'].map({'ham':1, 'spam':0})"
   ]
  },
  {
   "cell_type": "code",
   "execution_count": null,
   "metadata": {
    "collapsed": true
   },
   "outputs": [],
   "source": [
    "print ('Spam Count', (df['category'] == 0).sum())\n",
    "print ('Ham Count', (df['category'] == 1).sum())"
   ]
  },
  {
   "cell_type": "markdown",
   "metadata": {},
   "source": [
    "Feature Enginering on message: 1) Lower cases 2) Removing punctuation"
   ]
  },
  {
   "cell_type": "code",
   "execution_count": null,
   "metadata": {
    "collapsed": true
   },
   "outputs": [],
   "source": [
    "df['msg']=df['msg'].str.lower()"
   ]
  },
  {
   "cell_type": "code",
   "execution_count": null,
   "metadata": {
    "collapsed": true
   },
   "outputs": [],
   "source": [
    "df['msg'] = df['msg'].str.replace('[{}]'.format(string.punctuation),'')"
   ]
  },
  {
   "cell_type": "code",
   "execution_count": null,
   "metadata": {
    "collapsed": true
   },
   "outputs": [],
   "source": [
    "#TF-IDF for messages texts\n",
    "stop = stopwords.words('english')\n",
    "tfidfVectorizer=TfidfVectorizer('english', stop_words=stop)\n",
    "X_tfidf=tfidfVectorizer.fit_transform(df['msg'])\n",
    "df['vect_msg'] = X_tfidf.toarray().tolist()\n",
    "\n",
    "print('TFID matrix shape: ', X_tfidf.shape)"
   ]
  },
  {
   "cell_type": "markdown",
   "metadata": {},
   "source": [
    "Feature Enginering on message: encoding using Bow (Count vectors)"
   ]
  },
  {
   "cell_type": "code",
   "execution_count": null,
   "metadata": {
    "collapsed": true
   },
   "outputs": [],
   "source": [
    "#BOW for messages texts\n",
    "stop = stopwords.words('english')\n",
    "bowVectorizer = CountVectorizer('english', stop_words=stop)\n",
    "X_bow=bowVectorizer.fit_transform(df['msg'])\n",
    "df['bow_msg'] = X_bow.toarray().tolist()\n",
    "\n",
    "print('BOW matrix shape: ', X_bow.shape)"
   ]
  },
  {
   "cell_type": "markdown",
   "metadata": {},
   "source": [
    "Feature Engineering: Creating new feature with text message length"
   ]
  },
  {
   "cell_type": "code",
   "execution_count": null,
   "metadata": {
    "collapsed": true
   },
   "outputs": [],
   "source": [
    "df['len'] = df['msg'].apply(len)"
   ]
  },
  {
   "cell_type": "markdown",
   "metadata": {},
   "source": [
    "Word Length distribution visulaization for spams and non-spams messages"
   ]
  },
  {
   "cell_type": "code",
   "execution_count": null,
   "metadata": {
    "collapsed": true
   },
   "outputs": [],
   "source": [
    "plt.hist(df.loc[df['label'] == 'spam'].len, normed=False, bins=50)\n",
    "plt.ylabel('[spams] word counts')"
   ]
  },
  {
   "cell_type": "code",
   "execution_count": null,
   "metadata": {
    "collapsed": true
   },
   "outputs": [],
   "source": [
    "plt.hist(df.loc[df['label'] == 'ham'].len, normed=False, bins=50)\n",
    "plt.ylabel('[Non spams] word counts');"
   ]
  },
  {
   "cell_type": "markdown",
   "metadata": {},
   "source": [
    "Feature Engineering: Scaling the created text message length feature"
   ]
  },
  {
   "cell_type": "code",
   "execution_count": null,
   "metadata": {
    "collapsed": true
   },
   "outputs": [],
   "source": [
    "#Addiotnal feature word length\n",
    "scaler = MinMaxScaler()\n",
    "df[['len']] = scaler.fit_transform(df[['len']])\n",
    "lenCol= np.array(df[['len']])\n",
    "df[['len']] = lenCol\n",
    "\n",
    "print('Word Length Column shape: ', lenCol.shape)"
   ]
  },
  {
   "cell_type": "markdown",
   "metadata": {},
   "source": [
    "ombining TF-IDF, BOW and word length length into single feature set Pleaee provide input based on below posibilities: 1 - Only TF-IDF 2 - Only BOW 3 - Only Word Length 4 - TF-IDF + BOW 5 - TF-IDF + Word Length 6 - BOW + Word Length 7 - TF-IDF + BOW + Word Length\n"
   ]
  },
  {
   "cell_type": "code",
   "execution_count": null,
   "metadata": {
    "collapsed": true
   },
   "outputs": [],
   "source": [
    "input = 7"
   ]
  },
  {
   "cell_type": "code",
   "execution_count": null,
   "metadata": {
    "collapsed": true
   },
   "outputs": [],
   "source": [
    "#Feature combining\n",
    "if input == 1:\n",
    "    combinedFeature= X_tfidf\n",
    "    print('[TF-IDF] shape: ', combinedFeature.shape)\n",
    "if input == 2:\n",
    "    combinedFeature= X_bow\n",
    "    print('[BOW] shape: ', combinedFeature.shape)\n",
    "if input == 3:\n",
    "    combinedFeature= lenCol\n",
    "    print('[Word Length] shape: ', combinedFeature.shape)\n",
    "elif input == 4:\n",
    "    combinedFeature= hstack((X_tfidf, X_bow))\n",
    "    print('[TF-IDF + BOW] shape: ', combinedFeature.shape)\n",
    "elif input == 5:\n",
    "    combinedFeature= hstack((X_tfidf, lenCol))\n",
    "    print('[TF-IDF + Word Length] shape: ', combinedFeature.shape)\n",
    "elif input == 6:\n",
    "    combinedFeature= hstack((X_bow, lenCol))\n",
    "    print('[BOW + Word Length] shape: ', combinedFeature.shape)\n",
    "elif input == 7:\n",
    "    combinedFeature= hstack((X_tfidf, X_bow, lenCol))\n",
    "    print('[TF-IDF + BOW + Word Length] shape: ', combinedFeature.shape)"
   ]
  },
  {
   "cell_type": "code",
   "execution_count": null,
   "metadata": {
    "collapsed": true
   },
   "outputs": [],
   "source": [
    "#label column\n",
    "y=df['category']\n",
    "print('Label(Spam/Ham) shape: ', y.shape)"
   ]
  },
  {
   "cell_type": "code",
   "execution_count": null,
   "metadata": {
    "collapsed": true
   },
   "outputs": [],
   "source": [
    "X_train, X_test, y_train, y_test = train_test_split(combinedFeature, y, test_size = 0.3, random_state=12)"
   ]
  },
  {
   "cell_type": "code",
   "execution_count": null,
   "metadata": {
    "collapsed": true
   },
   "outputs": [],
   "source": [
    "print(\"X train/test shape\",X_train.shape,X_test.shape)"
   ]
  },
  {
   "cell_type": "code",
   "execution_count": null,
   "metadata": {
    "collapsed": true
   },
   "outputs": [],
   "source": [
    "modelDict = {}"
   ]
  },
  {
   "cell_type": "code",
   "execution_count": null,
   "metadata": {
    "collapsed": true
   },
   "outputs": [],
   "source": [
    "modelDict['Logistic_Regression'] = LogisticRegression(C=1200, penalty='l2', solver='liblinear')"
   ]
  },
  {
   "cell_type": "code",
   "execution_count": null,
   "metadata": {
    "collapsed": true
   },
   "outputs": [],
   "source": [
    "modelDict['Knn'] = KNeighborsClassifier(n_neighbors=20)"
   ]
  },
  {
   "cell_type": "code",
   "execution_count": null,
   "metadata": {
    "collapsed": true
   },
   "outputs": [],
   "source": [
    "modelDict['Decision_Tree'] = DecisionTreeClassifier()"
   ]
  },
  {
   "cell_type": "code",
   "execution_count": null,
   "metadata": {
    "collapsed": true
   },
   "outputs": [],
   "source": [
    "modelDict['Random_Forest'] = RandomForestClassifier(n_estimators=20)"
   ]
  },
  {
   "cell_type": "code",
   "execution_count": null,
   "metadata": {
    "collapsed": true
   },
   "outputs": [],
   "source": [
    "modelDict['Support_Vector_Machine'] = SVC(kernel='sigmoid', gamma=1.19)"
   ]
  },
  {
   "cell_type": "code",
   "execution_count": null,
   "metadata": {
    "collapsed": true
   },
   "outputs": [],
   "source": [
    "modelDict['Gradient_Boosting'] = GradientBoostingClassifier(learning_rate=0.08, min_samples_split=500, max_depth=8, max_features='sqrt', subsample=0.9)"
   ]
  },
  {
   "cell_type": "code",
   "execution_count": null,
   "metadata": {
    "collapsed": true
   },
   "outputs": [],
   "source": [
    "modelDict['Naive_Bayes_Bernoulli'] = BernoulliNB()\n",
    "#modelDict['Naive_Bayes_Gaussian'] = GaussianNB()"
   ]
  },
  {
   "cell_type": "code",
   "execution_count": null,
   "metadata": {
    "collapsed": true
   },
   "outputs": [],
   "source": [
    "kfoldValidation = model_selection.KFold(n_splits = 15, random_state = 7)\n",
    "for key in modelDict:\n",
    "    cv_results = model_selection.cross_val_score(modelDict[key], combinedFeature, y, cv = kfoldValidation, scoring='roc_auc')\n",
    "    print(key,' : ', cv_results.mean(), cv_results.std())\n",
    "\n",
    "#output:\n",
    "#Logistic_Regression  :  0.9895978014627492 0.008559605220390407\n",
    "#Naive_Bayes_Bernoulli  :  0.9900221045410834 0.010792419523689572"
   ]
  },
  {
   "cell_type": "markdown",
   "metadata": {},
   "source": [
    "Training & testing"
   ]
  },
  {
   "cell_type": "code",
   "execution_count": null,
   "metadata": {
    "collapsed": true
   },
   "outputs": [],
   "source": [
    "for key in modelDict:\n",
    "    modelDict[key].fit(X_train, y_train)\n",
    "    predictions = modelDict[key].predict(X_test)\n",
    "    print(key,\" : \" ,metrics.accuracy_score(y_test, predictions))\n",
    "    print(confusion_matrix(y_test, predictions))\n",
    "\n",
    "#results:\n",
    "#Logistic_Regression  :  0.9814704124327556\n",
    "#[[ 200   29]\n",
    "# [   2 1442]]\n",
    "\n",
    "#Naive_Bayes_Bernoulli  :  0.972504482964734\n",
    "#[[ 193   36]\n",
    "#[  10 1434]]"
   ]
  }
 ],
 "metadata": {
  "coursera": {
   "course_slug": "neural-networks-deep-learning",
   "graded_item_id": "XaIWT",
   "launcher_item_id": "zAgPl"
  },
  "kernelspec": {
   "display_name": "Python 3",
   "language": "python",
   "name": "python3"
  },
  "language_info": {
   "codemirror_mode": {
    "name": "ipython",
    "version": 3
   },
   "file_extension": ".py",
   "mimetype": "text/x-python",
   "name": "python",
   "nbconvert_exporter": "python",
   "pygments_lexer": "ipython3",
   "version": "3.5.2"
  }
 },
 "nbformat": 4,
 "nbformat_minor": 2
}
